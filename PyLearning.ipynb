{
  "nbformat": 4,
  "nbformat_minor": 0,
  "metadata": {
    "colab": {
      "name": "PyLearning.ipynb",
      "provenance": [],
      "toc_visible": true,
      "authorship_tag": "ABX9TyNUctLWiapoA9CK+I+SJUcE",
      "include_colab_link": true
    },
    "kernelspec": {
      "name": "python3",
      "display_name": "Python 3"
    },
    "language_info": {
      "name": "python"
    }
  },
  "cells": [
    {
      "cell_type": "markdown",
      "metadata": {
        "id": "view-in-github",
        "colab_type": "text"
      },
      "source": [
        "<a href=\"https://colab.research.google.com/github/yatowoo/Playground/blob/master/PyLearning.ipynb\" target=\"_parent\"><img src=\"https://colab.research.google.com/assets/colab-badge.svg\" alt=\"Open In Colab\"/></a>"
      ]
    },
    {
      "cell_type": "markdown",
      "metadata": {
        "id": "8wIB6USot2GV"
      },
      "source": [
        "# Playground\n",
        "Study by test!"
      ]
    },
    {
      "cell_type": "markdown",
      "metadata": {
        "id": "VGvLGuQ7uC8m"
      },
      "source": [
        "## Functions\n",
        "handle function/method like object"
      ]
    },
    {
      "cell_type": "code",
      "metadata": {
        "colab": {
          "base_uri": "https://localhost:8080/"
        },
        "id": "qVIkDtq1tQni",
        "outputId": "8f49a1f2-8c03-49f2-f702-867b734005d9"
      },
      "source": [
        "def foo_a(x):\n",
        "  print('a', x)\n",
        "  return\n",
        "\n",
        "def foo_b(x):\n",
        "  print('b',x)\n",
        "  return\n",
        "\n",
        "fooList = [foo_a, foo_b]\n",
        "fooTuples = [(3, foo_a), (4, foo_b)]\n",
        "fooDict = {'a': foo_a, 'b': foo_b}\n",
        "fooList[0](1)\n",
        "fooDict['b'](2)\n",
        "for x in fooTuples:\n",
        "  x[1](x[0])"
      ],
      "execution_count": null,
      "outputs": [
        {
          "output_type": "stream",
          "text": [
            "a 1\n",
            "b 2\n",
            "a 3\n",
            "b 4\n"
          ],
          "name": "stdout"
        }
      ]
    },
    {
      "cell_type": "markdown",
      "metadata": {
        "id": "s1F4BZ1y9ja7"
      },
      "source": [
        "lambda usage"
      ]
    },
    {
      "cell_type": "code",
      "metadata": {
        "colab": {
          "base_uri": "https://localhost:8080/"
        },
        "id": "4d4WwsNF9mWg",
        "outputId": "799575c4-34ae-442a-c547-dfef11291909"
      },
      "source": [
        "foo = lambda x, y: x+y\n",
        "print(foo(1,2))\n",
        "type(foo)"
      ],
      "execution_count": null,
      "outputs": [
        {
          "output_type": "stream",
          "text": [
            "3\n"
          ],
          "name": "stdout"
        },
        {
          "output_type": "execute_result",
          "data": {
            "text/plain": [
              "function"
            ]
          },
          "metadata": {
            "tags": []
          },
          "execution_count": 4
        }
      ]
    },
    {
      "cell_type": "code",
      "metadata": {
        "colab": {
          "base_uri": "https://localhost:8080/"
        },
        "id": "LNuTf3wK7_wR",
        "outputId": "6873a319-0073-4001-c941-5b28d0ae13be"
      },
      "source": [
        "def foo():\n",
        "  print('foo')\n",
        "\n",
        "locals()['foo']()\n",
        "globals()['foo']()\n",
        "\n",
        "import math\n",
        "getattr(math, 'sqrt')(4)"
      ],
      "execution_count": null,
      "outputs": [
        {
          "output_type": "stream",
          "text": [
            "foo\n",
            "foo\n"
          ],
          "name": "stdout"
        },
        {
          "output_type": "execute_result",
          "data": {
            "text/plain": [
              "2.0"
            ]
          },
          "metadata": {
            "tags": []
          },
          "execution_count": 3
        }
      ]
    },
    {
      "cell_type": "markdown",
      "metadata": {
        "id": "pI7D3jldte6z"
      },
      "source": [
        "data scope"
      ]
    },
    {
      "cell_type": "code",
      "metadata": {
        "colab": {
          "base_uri": "https://localhost:8080/"
        },
        "id": "MGBofdmothlb",
        "outputId": "e5862e5b-ca58-49eb-eb36-d43d77211640"
      },
      "source": [
        "def swap(arr, left, right):\n",
        "  tmp = arr[left]\n",
        "  arr[left] = arr[right]\n",
        "  arr[right] = tmp\n",
        "\n",
        "arrTmp = [5,4,3,2,1]\n",
        "swap(arrTmp,0,1)\n",
        "print(arrTmp)"
      ],
      "execution_count": null,
      "outputs": [
        {
          "output_type": "stream",
          "text": [
            "[4, 5, 3, 2, 1]\n"
          ],
          "name": "stdout"
        }
      ]
    },
    {
      "cell_type": "markdown",
      "metadata": {
        "id": "n186KxremRzu"
      },
      "source": [
        "## Class\n",
        "\n",
        "static variable inside class"
      ]
    },
    {
      "cell_type": "code",
      "metadata": {
        "colab": {
          "base_uri": "https://localhost:8080/"
        },
        "id": "PuomzgtUmdTl",
        "outputId": "fcf033bc-9799-424b-f395-a6a9bb9e31c8"
      },
      "source": [
        "class MyClass:\n",
        "  g_count = 0\n",
        "  def __init__(self, initValue):\n",
        "    MyClass.g_count += initValue\n",
        "  def print(self):\n",
        "    print(MyClass.g_count)\n",
        "\n",
        "MyClass(5).print()\n",
        "MyClass(6).print()"
      ],
      "execution_count": null,
      "outputs": [
        {
          "output_type": "stream",
          "text": [
            "5\n",
            "11\n"
          ],
          "name": "stdout"
        }
      ]
    },
    {
      "cell_type": "markdown",
      "metadata": {
        "id": "a4tjpMLiNxoz"
      },
      "source": [
        "## Data types"
      ]
    },
    {
      "cell_type": "markdown",
      "metadata": {
        "id": "HYhYzePvt0r5"
      },
      "source": [
        "Compare String"
      ]
    },
    {
      "cell_type": "code",
      "metadata": {
        "colab": {
          "base_uri": "https://localhost:8080/"
        },
        "id": "hNWIak9nNzwL",
        "outputId": "0a6549b0-9c83-40aa-c649-ad8002493f2e"
      },
      "source": [
        "'attack' is 'attack'\n",
        "strTmp = 'attack'\n",
        "strTmp is 'attack'"
      ],
      "execution_count": null,
      "outputs": [
        {
          "output_type": "execute_result",
          "data": {
            "text/plain": [
              "True"
            ]
          },
          "metadata": {
            "tags": []
          },
          "execution_count": 2
        }
      ]
    },
    {
      "cell_type": "markdown",
      "metadata": {
        "id": "N6JJMDtct7of"
      },
      "source": [
        "copy list, ref or value"
      ]
    },
    {
      "cell_type": "code",
      "metadata": {
        "id": "Zs3JZN-MOKdH",
        "colab": {
          "base_uri": "https://localhost:8080/"
        },
        "outputId": "6109a18f-b997-4626-813a-f4b0bceefd77"
      },
      "source": [
        "import copy\n",
        "\n",
        "listA = [{'a':1, 'b':'str'}]\n",
        "listB = [0]\n",
        "listB += listA\n",
        "listA[0]['a'] = 2\n",
        "print(listB)\n",
        "\n",
        "listB += copy.deepcopy(listA)\n",
        "listA[0]['b'] = 'tmp'\n",
        "print(listB)"
      ],
      "execution_count": null,
      "outputs": [
        {
          "output_type": "stream",
          "text": [
            "[0, {'a': 2, 'b': 'str'}]\n",
            "[0, {'a': 2, 'b': 'tmp'}, {'a': 2, 'b': 'str'}]\n"
          ],
          "name": "stdout"
        }
      ]
    },
    {
      "cell_type": "code",
      "metadata": {
        "id": "2sooI1uAzAdm"
      },
      "source": [
        ""
      ],
      "execution_count": null,
      "outputs": []
    }
  ]
}